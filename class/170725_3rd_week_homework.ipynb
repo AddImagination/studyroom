{
 "cells": [
  {
   "cell_type": "markdown",
   "metadata": {},
   "source": [
    "### 3주차 숙제\n",
    "\n",
    "**1. 류근관 교수 강의 수강하기** <br>\n",
    "- 홈페이지 : http://snui.snu.ac.kr/ocw/index.php?mode=view&id=1494 <br>\n",
    "- 범위 : 1.1 ~ 1.3 통계학과 자료 (총 약 1시간) <br>\n",
    "- 숙제 : 내용 요약 및 질문 사항 정리 \n",
    "    \n",
    "**2. thinkstats2** <br>\n",
    "- 범위 : 서문 ~ 1장 <br>\n",
    "- 숙제 : 1장 연습문제 풀기. <br>\n",
    "※ material 폴더 새로 만들어서 thinkstats2 자료 넣어놓음.  \n",
    "\n",
    "**3. Selenium, 작업 스케줄러 복습하기** <br>\n",
    "- 숙제 : 나라장터 접속해서 데이터 가져오는 업무 자동화하기. (selenium, 작업 스케줄러 활용.) <br>\n",
    "※ Homework2_selenium.py 참조\n"
   ]
  }
 ],
 "metadata": {
  "anaconda-cloud": {},
  "kernelspec": {
   "display_name": "Python 3",
   "language": "python",
   "name": "python3"
  },
  "language_info": {
   "codemirror_mode": {
    "name": "ipython",
    "version": 3
   },
   "file_extension": ".py",
   "mimetype": "text/x-python",
   "name": "python",
   "nbconvert_exporter": "python",
   "pygments_lexer": "ipython3",
   "version": "3.6.0"
  }
 },
 "nbformat": 4,
 "nbformat_minor": 1
}
