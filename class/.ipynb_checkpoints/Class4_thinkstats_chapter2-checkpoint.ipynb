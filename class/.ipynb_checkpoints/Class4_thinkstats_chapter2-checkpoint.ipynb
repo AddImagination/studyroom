{
 "cells": [
  {
   "cell_type": "markdown",
   "metadata": {},
   "source": [
    "### thinkstats 2강 요약\n",
    "\n",
    "앞으로 많은 표현에 대해 영어, 한글을 섞어서 사용하게 될 것이므로 자주 나오는 단어의 경우 영어/한글 같이 표기하도록 하겠다.\n",
    "\n",
    "- histogram(히스토그램) : distribution(분포)를 나타내주는 표현 방법 중 하나로 각 값의 ***빈도(frequency)***를 보여준다.\n",
    "discrete(떨어져있는)한 데이터의 값이 얼마나 ***많이*** 했는지 알기 쉽게 표현해준다.\n",
    "- mode(최빈값) : 가장 많이 관찰되는 값\n",
    "- gaussian 분포 : Normal distribution(정규 분포)라고도 하며 평균이 0, 표준편차가 1인 분포를 일컫는다. 통계에서 가장 많이 사용하는 분포 중 하나인데 \n",
    "이 분포로 수 많은 자연 현상들을 설명할 수 있기 때문이다. 류근관 교수님 수업에 중심극한정리를 배우면서 깊이 있게 배우게 될 것이다.\n",
    "- outlier(특이점) : 실제로 데이터 분석을 진행할 때, 특이점에 의한 영향이 커서 원치 않는 결과를 얻을 때가 많다. 어떤 기준으로 어떤 알고리즘으로 특이점을 처리할 지에 대한 많은 고민이 필요하다. 특이점은 데이터의 기존 분포에 좀 엇나가는 분포를 나타내므로 사기를 탐지하는 데에도 많이 사용된다. \n",
    "- mean(평균) : 아래 식으로 표현된다. 아주 기본적인 통계를 요약해서 나타내주는 값이다. \n",
    "expectation value(기대값)과도 거의 같은 의미를 가진다. 이 후에 continuous한 데이터를 다룰 때 expectation value가 자주 등장할 예정이다. \n",
    "아래 식은 discrete한 데이터에 대한 식으로, 이 후에 확률에 대해 학습한 후엔 조금 변형된 식을 배우게 될 것이다.\n",
    "$$\\hat x = {1 \\above 1pt n} \\sum_i x_i $$\n",
    "- variance(분산) : 데이터가 중심으로부터 얼마나 많이 퍼져있는지에 대한 통계를 요약해서 나타내주는 값이다. 분산의 제곱근을 standard deviation(표준편차) 라고 하며 평균과 함께 가장 많이 쓰는 통계량이다. \n",
    "$$S^2 = {1 \\above 1pt n} \\sum_i (x_i - \\hat x)^2$$\n",
    "- Cohen d : 집단 간의 차이가 얼마나 큰지 비교하는 방법이다. 지금은 당장 몰라도 되고 이 후에 여러가지 추론 통계를 공부할 때 비슷한 내용을 많이 배울 예정이다. 같이 주로 다룰 내용은 데이터가 ***유의하게(statistically significant)*** 차이가 있는지, 없는지에 대한 내용이다. "
   ]
  }
 ],
 "metadata": {
  "anaconda-cloud": {},
  "kernelspec": {
   "display_name": "Python [default]",
   "language": "python",
   "name": "python3"
  },
  "language_info": {
   "codemirror_mode": {
    "name": "ipython",
    "version": 3
   },
   "file_extension": ".py",
   "mimetype": "text/x-python",
   "name": "python",
   "nbconvert_exporter": "python",
   "pygments_lexer": "ipython3",
   "version": "3.5.2"
  }
 },
 "nbformat": 4,
 "nbformat_minor": 2
}
