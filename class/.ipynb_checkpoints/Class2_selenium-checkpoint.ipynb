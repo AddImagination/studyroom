{
 "cells": [
  {
   "cell_type": "markdown",
   "metadata": {},
   "source": [
    "### 3) selenium 패키지의 이해\n",
    "\n",
    "지금까지 requests, BeautifulSoup 패키지를 활용하여 웹 상에 HTML 형식을 따라가서 특정 원하는 데이터를 추출하는 법을 배웠다.\n",
    "\n",
    "추가적으로 selenium 패키지를 활용하여 웹 상에서 로그인이 유지되어야 하며 requests로 접근이 어려운 경우(naver 카페 등)\n",
    "정보를 가져오는 방법을 배워보도록 하겠다.\n",
    "\n",
    "먼저, selenium을 설치하고 chrome driver를 다운받도록 하자\n",
    "\n",
    "- selenium 설치 : cmd창에 pip install selenium\n",
    "- chrome driver 다운로드 : https://chromedriver.storage.googleapis.com/index.html?path=2.30/\n",
    "\n",
    "selenium은 기본적으로 python을 통해서 웹 브라우저에 접속한다고 생각하면 되며 실행시키면 Chrome이 뜨는 것을 볼 수 있다.\n",
    "\n",
    "접속한 후에 마우스로 버튼을 클릭하듯이 짜놓은 코드를 따라 브라우저 내에서 이동하게 된다.\n",
    "\n",
    "이 때, 앞 서 requests를 학습하면서 배웠던 HTML 형식을 마찬가지로 이정표로 삼을 것이며 원하는 데이터가 있는 위치에 도달했을 경우에\n",
    "해당 소스를 BeautifulSoup으로 읽어서 원하는 데이터만 가져올 수 있다.\n",
    "\n",
    "*웹 브라우저가 실제로 작동하기 때문에 requests 패키지보다 느리므로 requests로 처리하기 어려운 것들에 대해서만 하면 되겠다.*\n",
    "\n",
    "아래에서 본격적으로 selenium을 학습해보도록 하자.\n"
   ]
  },
  {
   "cell_type": "code",
   "execution_count": 3,
   "metadata": {
    "collapsed": true
   },
   "outputs": [],
   "source": [
    "from selenium import webdriver\n",
    "from bs4 import BeautifulSoup\n",
    "\n",
    "driver = webdriver.Chrome('C:/Users/Whi Kwon/Documents/GitHub/python_script/chromedriver.exe') # chrome driver 실행\n",
    "driver.implicitly_wait(2) # driver가 켜지는 동안 2초간 강제적으로 기다린다"
   ]
  },
  {
   "cell_type": "code",
   "execution_count": 4,
   "metadata": {
    "collapsed": true
   },
   "outputs": [],
   "source": [
    "driver.get('https://nid.naver.com/nidlogin.login')  # naver 로그인 창에 접속한다"
   ]
  },
  {
   "cell_type": "code",
   "execution_count": null,
   "metadata": {
    "collapsed": true
   },
   "outputs": [],
   "source": [
    "driver.find_element_by_name('id').send_keys('kymkh0902') # naver 로그인 창에 id를 입력한다. \n",
    "driver.find_element_by_name('pw').send_keys('Rnjsgnl2@') # naver 로그인 창에 pw를 입력한다. "
   ]
  },
  {
   "cell_type": "code",
   "execution_count": null,
   "metadata": {
    "collapsed": true
   },
   "outputs": [],
   "source": [
    "driver.find_element_by_xpath('//*[@id=\"frmNIDLogin\"]/fieldset/input').click() # login 버튼을 찾아서 클릭한다. "
   ]
  },
  {
   "cell_type": "code",
   "execution_count": null,
   "metadata": {
    "collapsed": true
   },
   "outputs": [],
   "source": [
    "driver.get('http://cafe.naver.com/mlmodel') # 스터디 카페에 접속한다. "
   ]
  },
  {
   "cell_type": "code",
   "execution_count": null,
   "metadata": {
    "collapsed": true
   },
   "outputs": [],
   "source": [
    "driver.switch_to_frame('cafe_main') # 카페 내 iframe에 접근한다. "
   ]
  },
  {
   "cell_type": "code",
   "execution_count": null,
   "metadata": {
    "collapsed": true
   },
   "outputs": [],
   "source": [
    "driver.find_element_by_xpath('//*[@id=\"cafe-data\"]/div[1]/div/div/div/div/span/a').click() # more 버튼을 찾아서 클릭한다. "
   ]
  },
  {
   "cell_type": "code",
   "execution_count": null,
   "metadata": {
    "collapsed": true
   },
   "outputs": [],
   "source": [
    "html = driver.page_source # html source를 가져온다. "
   ]
  },
  {
   "cell_type": "code",
   "execution_count": null,
   "metadata": {
    "collapsed": true
   },
   "outputs": [],
   "source": [
    "soup = BeautifulSoup(html, 'lxml') # 가져온 source를 BeautifulSoup으로 보기 좋게 만든다."
   ]
  },
  {
   "cell_type": "code",
   "execution_count": null,
   "metadata": {
    "collapsed": true
   },
   "outputs": [],
   "source": [
    "# 원하는 데이터(글 제목)를 가져온다.\n",
    "data = soup.find(attrs = {'class':'article-board m-tcol-c'}).find_all(name = 'span', attrs = {'class' : 'aaa'}) \n",
    "result = [] # 데이터를 넣기 위한 빈 list를 하나 만들어준다. "
   ]
  },
  {
   "cell_type": "code",
   "execution_count": null,
   "metadata": {
    "collapsed": true
   },
   "outputs": [],
   "source": [
    "for i in data:\n",
    "    result.append(i.text.strip()) # 원하는 데이터를 result에 순차적으로 넣어준다. \n",
    "    \n",
    "print(result) # result 출력"
   ]
  },
  {
   "cell_type": "code",
   "execution_count": null,
   "metadata": {
    "collapsed": true
   },
   "outputs": [],
   "source": [
    "driver.close() # driver 닫는다. "
   ]
  }
 ],
 "metadata": {
  "anaconda-cloud": {},
  "kernelspec": {
   "display_name": "Python [default]",
   "language": "python",
   "name": "python3"
  },
  "language_info": {
   "codemirror_mode": {
    "name": "ipython",
    "version": 3
   },
   "file_extension": ".py",
   "mimetype": "text/x-python",
   "name": "python",
   "nbconvert_exporter": "python",
   "pygments_lexer": "ipython3",
   "version": "3.5.2"
  }
 },
 "nbformat": 4,
 "nbformat_minor": 1
}
