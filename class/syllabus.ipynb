{
 "cells": [
  {
   "cell_type": "markdown",
   "metadata": {},
   "source": [
    "### 수업 계획\n",
    "\n",
    "1) 통계학\n",
    "\n",
    "- 강의\n",
    "\n",
    "    1) 경제 통계학(류근관 교수) : ~10/7, markdown 내용 정리\n",
    "\n",
    "2) 머신러닝\n",
    "    \n",
    "    \n",
    "- 강의\n",
    "\n",
    "    1) Coursera 머신러닝(Andrew Ng 교수) : 10/7~ markdown 내용 정리, 수학적인 내용에 대한 코드 학습\n",
    "    \n",
    "    \n",
    "- 책\n",
    "\n",
    "    1) Hands on ML : Coursera 머신러닝 학습 시 앞 부분 내용 학습 / 모두를 위한 딥러닝 학습 시 뒷 부분 내용 학습 \n",
    "    \n",
    "3) 딥러닝 \n",
    "- 강의\n",
    "\n",
    "    1) 모두를 위한 딥러닝(김성훈 교수) : Coursera 머신러닝 후에 수강. (상세 일정 미정)\n",
    "    \n",
    "    2) CS231n (Stanford 대학교) : 비전에 관심이 있을 경우 수강 (미정)\n",
    "    \n",
    "    3) CS224n (Stanford 대학교) : 자연어에 관심이 있을 경우 수강 (미정) \n",
    "    \n",
    "    \n",
    "- 책\n",
    "\n",
    "    1) Deep Learning\n",
    "    \n",
    "    \n",
    "- API\n",
    "\n",
    "    1) numpy, pandas, matplotlib : 데이터 가공, 분석을 위한 패키지\n",
    "    \n",
    "    2) scikit-learn : 전반적인 머신러닝 관련 패키지\n",
    "    \n",
    "    3) tensorflow : 딥러닝 프레임워크 "
   ]
  },
  {
   "cell_type": "markdown",
   "metadata": {},
   "source": [
    "***\n",
    "### 프로젝트 \n",
    "\n",
    "학습 내용을 바탕으로 데이터를 활용해서 결과물을 얻는다. 공모전이나 kaggle의 경우도 괜찮을 듯함. \n",
    "\n",
    "- 언제 : \n",
    "- 데이터 : \n",
    "- 도구 : \n",
    "- 기한 : \n",
    "- 결과물 : "
   ]
  }
 ],
 "metadata": {
  "kernelspec": {
   "display_name": "Python [default]",
   "language": "python",
   "name": "python3"
  },
  "language_info": {
   "codemirror_mode": {
    "name": "ipython",
    "version": 3
   },
   "file_extension": ".py",
   "mimetype": "text/x-python",
   "name": "python",
   "nbconvert_exporter": "python",
   "pygments_lexer": "ipython3",
   "version": "3.5.2"
  }
 },
 "nbformat": 4,
 "nbformat_minor": 2
}
