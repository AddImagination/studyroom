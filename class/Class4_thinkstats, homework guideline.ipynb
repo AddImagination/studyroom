{
 "cells": [
  {
   "cell_type": "markdown",
   "metadata": {},
   "source": [
    "### thinkstats 과제 풀이 및 방향성 제시\n",
    "\n",
    "thinkstats의 코드를 보면 책의 내용을 반복적으로, 효과적으로 다루기 위해서 함수, 클래스를 만들어서 사용하고 있다. \n",
    "근데 이 코드들이 우리가 나중에 사용할 코드, 패키지가 아니어서 이의 근간이 되는\n",
    "**numpy, pandas, matplotlib 패키지**를 사용할 예정이다.\n",
    "\n",
    "material 폴더에 올린 tutorial 파일을 보면 기본적인 내용을 학습하는 데에 도움이 될 것이다. \n",
    "어쨋든, 어떤 식으로 코드 작성을 따라가야 할 지에 대해서 설명하도록 하겠다.\n",
    "\n",
    "thinkstats의 내부 코드가 매우 잘 짜여져 있는데 쓸데 없이 너무 복잡하고 문법적인 내용이 너무 많아서 **numpy, pandas, matplotlib**를 이용해서 최대한 간단하게 표현하려고 한다. 답은 코드를 돌렸을 때 나오므로, 포맷은 동일하지 않아도 동일한 결과를 얻으면 된다."
   ]
  },
  {
   "cell_type": "code",
   "execution_count": 1,
   "metadata": {
    "collapsed": true
   },
   "outputs": [],
   "source": [
    "import sys  # 환경 변수 패키지\n",
    "import numpy as np   # numpy 패키지 (행렬 연산)\n",
    "import pandas as pd  # pandas 패키지\n",
    "import matplotlib.pyplot as plt  # plotting 패키지\n",
    "%matplotlib inline\n",
    "\n",
    "#matplotlib 환경설정\n",
    "plt.rcParams['figure.figsize'] = (10.0, 8.0) # plot 크기 설정\n",
    "plt.rcParams['image.interpolation'] = 'nearest' \n",
    "plt.rcParams['image.cmap'] = 'gray'\n",
    "\n",
    "#code 들어있는 폴더 환경 변수 추가를 위함.\n",
    "sys.path.append('C:/Users/Whi Kwon/Documents/GitHub/studyroom/materials/ThinkStats2-kr/code')"
   ]
  },
  {
   "cell_type": "markdown",
   "metadata": {},
   "source": [
    "#### 1번 문제 : 여성 응답자 파일을 읽어들여 변수명을 표시하시오 \n",
    "→ 데이터를 불러오는 문제이다. 넘어가자"
   ]
  },
  {
   "cell_type": "code",
   "execution_count": 2,
   "metadata": {
    "collapsed": false
   },
   "outputs": [
    {
     "data": {
      "text/plain": [
       "Index(['caseid', 'rscrinf', 'rdormres', 'rostscrn', 'rscreenhisp',\n",
       "       'rscreenrace', 'age_a', 'age_r', 'cmbirth', 'agescrn',\n",
       "       ...\n",
       "       'pubassis_i', 'basewgt', 'adj_mod_basewgt', 'finalwgt', 'secu_r',\n",
       "       'sest', 'cmintvw', 'cmlstyr', 'screentime', 'intvlngth'],\n",
       "      dtype='object', length=3087)"
      ]
     },
     "execution_count": 2,
     "metadata": {},
     "output_type": "execute_result"
    }
   ],
   "source": [
    "import chap01soln  # chap01soln.py 파일을 불러온다. \n",
    "resp = chap01soln.ReadFemResp()  # 파일 내 데이터 불러오는 함수이다\n",
    "resp.columns  # pandas의 columns 함수"
   ]
  },
  {
   "cell_type": "markdown",
   "metadata": {},
   "source": [
    "#### 2번 문제 : 응답자 가족에 대한 총소득 <tt>totincr</tt> 히스토그램을 생성하시오. 코드를 해석하기 위해서, [codebook](http://www.icpsr.umich.edu/nsfg6/Controller?displayPage=labelDetails&fileCode=MALE&section=R&subSec=7958&srtLabel=609776)을 살펴보시오.\n",
    "→ 문제를 보고 matplotlib로 구현해보자"
   ]
  },
  {
   "cell_type": "code",
   "execution_count": 5,
   "metadata": {
    "collapsed": false
   },
   "outputs": [
    {
     "data": {
      "image/png": "[encoded data removed]",
      "text/plain": [
       "<matplotlib.figure.Figure at 0x213e683b710>"
      ]
     },
     "metadata": {},
     "output_type": "display_data"
    },
    {
     "data": {
      "text/plain": [
       "<matplotlib.figure.Figure at 0x213e7839eb8>"
      ]
     },
     "metadata": {},
     "output_type": "display_data"
    }
   ],
   "source": [
    "import thinkstats2  # thinkstats2.py 을 불러온다. \n",
    "hist = thinkstats2.Hist(resp.totincr)  # thinkstats2 내 Hist 클래스에 resp.totincr 데이터를 넣는다. \n",
    "\n",
    "import thinkplot  # thinkplot.py를 불러온다.\n",
    "thinkplot.Hist(hist, label='totincr')  # thinkplot 내 Hist 함수에 hist를 넣는다. \n",
    "thinkplot.Show()  # 그래프를 출력한다. "
   ]
  },
  {
   "cell_type": "markdown",
   "metadata": {},
   "source": [
    "**2번 문제 해설** : <br>\n",
    "1) 먼저 데이터를 본다. "
   ]
  },
  {
   "cell_type": "code",
   "execution_count": 6,
   "metadata": {
    "collapsed": false
   },
   "outputs": [
    {
     "name": "stdout",
     "output_type": "stream",
     "text": [
      "data range : 1 to 14\n",
      "data shape : (7643,)\n"
     ]
    }
   ],
   "source": [
    "print(\"data range : {} to {}\".format(resp.totincr.min(), resp.totincr.max())) # 데이터의 min, max 값\n",
    "print(\"data shape :\",resp.totincr.shape)  # 데이터의 행렬 형태. "
   ]
  },
  {
   "cell_type": "markdown",
   "metadata": {},
   "source": [
    "2) matplotlib의 histogram 작성법을 본다.\n",
    "\n",
    "- [matplotlib.pyplot.hist API](https://matplotlib.org/devdocs/api/_as_gen/matplotlib.pyplot.hist.html)\n",
    "- matplotlib tutorial 자료\n",
    "![histogram](../pictures/thinkstats/matplot_hist.PNG)\n"
   ]
  },
  {
   "cell_type": "markdown",
   "metadata": {},
   "source": [
    "3) 구현해본다. <br>\n",
    "아래 그래프를 보면 비슷하다. 보다시피 되게 짧고 간결하다."
   ]
  },
  {
   "cell_type": "code",
   "execution_count": 7,
   "metadata": {
    "collapsed": false
   },
   "outputs": [
    {
     "data": {
      "image/png": "[encoded data removed]",
      "text/plain": [
       "<matplotlib.figure.Figure at 0x213db3fdfd0>"
      ]
     },
     "metadata": {},
     "output_type": "display_data"
    }
   ],
   "source": [
    "data = resp.totincr # data 변수에 사용할 데이터를 넣어준다. \n",
    "plt.subplot(111)  # 1x1x1 plot을 생성한다. \n",
    "plt.hist(data, label = 'totincr', color = 'gray', range = [1,15], bins = 2, align = 'right') # hisrogram을 그린다. 값은 1~15, bins은 15개, \n",
    "plt.legend() # 범례를 킨다. \n",
    "plt.show() # 그래프를 출력한다. "
   ]
  },
  {
   "cell_type": "markdown",
   "metadata": {},
   "source": [
    "#### 3번 문제 : 인터뷰 당시 응답자 나이 변수, <tt>age_r</tt>에 대한 히스토그램을 생성하시오."
   ]
  },
  {
   "cell_type": "markdown",
   "metadata": {},
   "source": [
    "#### 4번 문제 : 응답자 가구의 가구원수, <tt>numfmhh</tt>에 대한 히스토그램을 생성하시오."
   ]
  },
  {
   "cell_type": "markdown",
   "metadata": {},
   "source": [
    "#### 5번 문제 : 응답자 가구의 가구원수, <tt>numfmhh</tt>에 대한 히스토그램을 생성하시오."
   ]
  },
  {
   "cell_type": "markdown",
   "metadata": {},
   "source": [
    "#### 6번 문제 : 응답자가 낳은 자녀수, <tt>parity</tt>에 대한 히스토그램을 생성하시오. 이 분포를 어떻게 기술할까요?"
   ]
  },
  {
   "cell_type": "code",
   "execution_count": 99,
   "metadata": {
    "collapsed": false
   },
   "outputs": [
    {
     "data": {
      "image/png": "[encoded data removed]",
      "text/plain": [
       "<matplotlib.figure.Figure at 0x1f5d9985048>"
      ]
     },
     "metadata": {},
     "output_type": "display_data"
    },
    {
     "data": {
      "text/plain": [
       "<matplotlib.figure.Figure at 0x1f5e64e5fd0>"
      ]
     },
     "metadata": {},
     "output_type": "display_data"
    }
   ],
   "source": [
    "hist = thinkstats2.Hist(resp.parity)\n",
    "thinkplot.Hist(hist, label='parity')\n",
    "thinkplot.Show()"
   ]
  },
  {
   "cell_type": "markdown",
   "metadata": {},
   "source": [
    "#### 6-2번 문제 : Hist.Largest를 사용해서 <tt>parity</tt>의 가장 큰 수를 찾으시오.\n",
    "→ Histogram을 x축을 기준으로 몇으로 쪼갤 것인지, 쪼개면 그에 해당되는 값의 개수가 나올 것이고, 그 중 가장 큰 수를 찾으라는 문제 <br>\n",
    "\n",
    "1) 먼저, x의 범위를 확인하자."
   ]
  },
  {
   "cell_type": "code",
   "execution_count": 95,
   "metadata": {
    "collapsed": false
   },
   "outputs": [
    {
     "name": "stdout",
     "output_type": "stream",
     "text": [
      "value range : 0 to 22\n"
     ]
    }
   ],
   "source": [
    "print(\"value range : {} to {}\".format(resp.parity.min(), resp.parity.max()))  # 데이터의 min/max를 출력한다. "
   ]
  },
  {
   "cell_type": "markdown",
   "metadata": {},
   "source": [
    "2) 위 그래프에서 봤을 때 x축 크기 1당 개수를 센 값을 histogram으로 나타낸 것으로 볼 수 있다. 크기 1당으로 쪼개려면 어떻게 해야될까?"
   ]
  },
  {
   "cell_type": "code",
   "execution_count": 96,
   "metadata": {
    "collapsed": true
   },
   "outputs": [],
   "source": [
    "data_count = {}  # 데이터 담을 바구니 \n",
    "for i in range(0,23):  # 데이터가 0부터 22까지 있으니까 총 22개\n",
    "    data_count[i] = sum(resp.parity == i)  # 데이터 별로 몇 개씩 있는 지 확인해서 data_count에 담기. "
   ]
  },
  {
   "cell_type": "code",
   "execution_count": 101,
   "metadata": {
    "collapsed": false
   },
   "outputs": [
    {
     "data": {
      "text/plain": [
       "{0: 3230,\n",
       " 1: 1519,\n",
       " 2: 1603,\n",
       " 3: 828,\n",
       " 4: 309,\n",
       " 5: 95,\n",
       " 6: 29,\n",
       " 7: 15,\n",
       " 8: 8,\n",
       " 9: 2,\n",
       " 10: 3,\n",
       " 11: 0,\n",
       " 12: 0,\n",
       " 13: 0,\n",
       " 14: 0,\n",
       " 15: 0,\n",
       " 16: 1,\n",
       " 17: 0,\n",
       " 18: 0,\n",
       " 19: 0,\n",
       " 20: 0,\n",
       " 21: 0,\n",
       " 22: 1}"
      ]
     },
     "execution_count": 101,
     "metadata": {},
     "output_type": "execute_result"
    }
   ],
   "source": [
    "data_count"
   ]
  },
  {
   "cell_type": "markdown",
   "metadata": {},
   "source": [
    "#### 7번 문제 : <tt>totincr</tt>를 사용해서 가장 높은 임금을 갖는 응답자를 고르시오. 고임금 응답자에 대해서만 <tt>parity</tt> 분포를 계산하시오."
   ]
  },
  {
   "cell_type": "code",
   "execution_count": 102,
   "metadata": {
    "collapsed": false
   },
   "outputs": [
    {
     "data": {
      "image/png": "[encoded data removed]",
      "text/plain": [
       "<matplotlib.figure.Figure at 0x1f5daa4bb00>"
      ]
     },
     "metadata": {},
     "output_type": "display_data"
    },
    {
     "data": {
      "text/plain": [
       "<matplotlib.figure.Figure at 0x1f5e19dfac8>"
      ]
     },
     "metadata": {},
     "output_type": "display_data"
    }
   ],
   "source": [
    "resp.totincr.value_counts() ## 총임금 빈도수 계산\n",
    "rich = resp[resp.totincr == 14]\n",
    "hist = thinkstats2.Hist(rich.parity)\n",
    "thinkplot.Hist(hist, label='rich parity')\n",
    "thinkplot.Show()"
   ]
  },
  {
   "cell_type": "markdown",
   "metadata": {},
   "source": [
    "#### 7-2번 문제 : 고임금과 고임금이 아닌 집단에 대한 평균 <tt>parity</tt>를 비교하시오."
   ]
  },
  {
   "cell_type": "code",
   "execution_count": 103,
   "metadata": {
    "collapsed": false
   },
   "outputs": [
    {
     "name": "stdout",
     "output_type": "stream",
     "text": [
      "Rich mean value is:  1.0758620689655172\n",
      "Poor mean value is:  1.2495758136665125\n"
     ]
    }
   ],
   "source": [
    "rich = resp[resp.totincr == 14]\n",
    "poor = resp[resp.totincr < 14]\n",
    "print('Rich mean value is: ', rich.parity.mean())\n",
    "print('Poor mean value is: ', poor.parity.mean())"
   ]
  }
 ],
 "metadata": {
  "anaconda-cloud": {},
  "kernelspec": {
   "display_name": "Python [default]",
   "language": "python",
   "name": "python3"
  },
  "language_info": {
   "codemirror_mode": {
    "name": "ipython",
    "version": 3
   },
   "file_extension": ".py",
   "mimetype": "text/x-python",
   "name": "python",
   "nbconvert_exporter": "python",
   "pygments_lexer": "ipython3",
   "version": "3.5.2"
  }
 },
 "nbformat": 4,
 "nbformat_minor": 2
}
