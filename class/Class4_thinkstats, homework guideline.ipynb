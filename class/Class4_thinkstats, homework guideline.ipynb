{
 "cells": [
  {
   "cell_type": "markdown",
   "metadata": {},
   "source": [
    "### thinkstats 과제 풀이 및 방향성 제시\n",
    "\n",
    "thinkstats의 코드를 보면 책의 내용을 반복적으로, 효과적으로 다루기 위해서 함수, 클래스를 만들어서 사용하고 있다. \n",
    "근데 이 코드들이 우리가 나중에 사용할 코드, 패키지가 아니어서 이의 근간이 되는\n",
    "**numpy, pandas, matplotlib 패키지**를 사용할 예정이다.\n",
    "\n",
    "material 폴더에 올린 tutorial 파일을 보면 기본적인 내용을 학습하는 데에 도움이 될 것이다. \n",
    "어쨋든, 어떤 식으로 코드 작성을 따라가야 할 지에 대해서 설명하도록 하겠다.\n",
    "\n",
    "thinkstats의 내부 코드가 매우 잘 짜여져 있는데 쓸데 없이 너무 복잡하고 문법적인 내용이 너무 많아서 **numpy, pandas, matplotlib**를 이용해서 최대한 간단하게 표현하려고 한다. 답은 코드를 돌렸을 때 나오므로, 포맷은 동일하지 않아도 동일한 결과를 얻으면 된다."
   ]
  },
  {
   "cell_type": "code",
<<<<<<< HEAD
   "execution_count": 10,
=======
   "execution_count": 1,
>>>>>>> 45f0c0cce8562bbfaa4391ee64dfe9ef0da26e31
   "metadata": {
    "collapsed": true
   },
   "outputs": [],
   "source": [
    "import sys  # 환경 변수 패키지\n",
    "import numpy as np   # numpy 패키지 (행렬 연산)\n",
    "import pandas as pd  # pandas 패키지\n",
    "import matplotlib.pyplot as plt  # plotting 패키지\n",
    "%matplotlib inline\n",
    "\n",
    "#matplotlib 환경설정\n",
    "plt.rcParams['figure.figsize'] = (10.0, 8.0) # plot 크기 설정\n",
    "plt.rcParams['image.interpolation'] = 'nearest' \n",
    "plt.rcParams['image.cmap'] = 'gray'\n",
    "\n",
    "#code 들어있는 폴더 환경 변수 추가를 위함.\n",
    "sys.path.append('C:/Users/HS/Desktop/과외/studyroom/materials/ThinkStats2-kr/code')"
   ]
  },
  {
   "cell_type": "markdown",
   "metadata": {},
   "source": [
    "\n",
    "\n",
    "#### 1번 문제 : 여성 응답자 파일을 읽어들여 변수명을 표시하시오 \n",
    "→ 데이터를 불러오는 문제이다. 넘어가자"
   ]
  },
  {
   "cell_type": "code",
<<<<<<< HEAD
   "execution_count": 11,
   "metadata": {},
=======
   "execution_count": 2,
   "metadata": {
    "collapsed": false
   },
>>>>>>> 45f0c0cce8562bbfaa4391ee64dfe9ef0da26e31
   "outputs": [
    {
     "data": {
      "text/plain": [
       "Index(['caseid', 'rscrinf', 'rdormres', 'rostscrn', 'rscreenhisp',\n",
       "       'rscreenrace', 'age_a', 'age_r', 'cmbirth', 'agescrn',\n",
       "       ...\n",
       "       'pubassis_i', 'basewgt', 'adj_mod_basewgt', 'finalwgt', 'secu_r',\n",
       "       'sest', 'cmintvw', 'cmlstyr', 'screentime', 'intvlngth'],\n",
       "      dtype='object', length=3087)"
      ]
     },
<<<<<<< HEAD
     "execution_count": 11,
=======
     "execution_count": 2,
>>>>>>> 45f0c0cce8562bbfaa4391ee64dfe9ef0da26e31
     "metadata": {},
     "output_type": "execute_result"
    }
   ],
   "source": [
    "import chap01soln  # chap01soln.py 파일을 불러온다. \n",
    "resp = chap01soln.ReadFemResp()  # 파일 내 데이터 불러오는 함수이다\n",
    "resp.columns  # pandas의 columns 함수"
   ]
  },
  {
   "cell_type": "code",
   "execution_count": 13,
   "metadata": {},
   "outputs": [
    {
     "data": {
      "text/plain": [
       "(7643, 3087)"
      ]
     },
     "execution_count": 13,
     "metadata": {},
     "output_type": "execute_result"
    }
   ],
   "source": [
    "resp.shape"
   ]
  },
  {
   "cell_type": "markdown",
   "metadata": {},
   "source": [
    "#### 2번 문제 : 응답자 가족에 대한 총소득 <tt>totincr</tt> 히스토그램을 생성하시오. 코드를 해석하기 위해서, [codebook](http://www.icpsr.umich.edu/nsfg6/Controller?displayPage=labelDetails&fileCode=MALE&section=R&subSec=7958&srtLabel=609776)을 살펴보시오.\n",
    "→ 문제를 보고 matplotlib로 구현해보자"
   ]
  },
  {
   "cell_type": "code",
<<<<<<< HEAD
   "execution_count": 68,
   "metadata": {},
=======
   "execution_count": 5,
   "metadata": {
    "collapsed": false
   },
>>>>>>> 45f0c0cce8562bbfaa4391ee64dfe9ef0da26e31
   "outputs": [
    {
     "data": {
      "image/png": "iVBORw0KGgoAAAANSUhEUgAAAmAAAAHfCAYAAAD3H2TtAAAABHNCSVQICAgIfAhkiAAAAAlwSFlz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\n",
      "text/plain": [
       "<matplotlib.figure.Figure at 0x213e683b710>"
      ]
     },
     "metadata": {},
     "output_type": "display_data"
    },
    {
     "data": {
      "text/plain": [
       "<matplotlib.figure.Figure at 0x213e7839eb8>"
      ]
     },
     "metadata": {},
     "output_type": "display_data"
    }
   ],
   "source": [
    "import thinkstats2  # thinkstats2.py 을 불러온다. \n",
    "hist = thinkstats2.Hist(resp.totincr)  # thinkstats2 내 Hist 클래스에 resp.totincr 데이터를 넣는다. \n",
    "\n",
    "import thinkplot  # thinkplot.py를 불러온다.\n",
    "thinkplot.Hist(hist, label='totincr')  # thinkplot 내 Hist 함수에 hist를 넣는다. \n",
    "thinkplot.Show()  # 그래프를 출력한다. "
   ]
  },
  {
   "cell_type": "markdown",
   "metadata": {},
   "source": [
    "**2번 문제 해설** : <br>\n",
    "1) 먼저 데이터를 본다. "
   ]
  },
  {
   "cell_type": "code",
<<<<<<< HEAD
   "execution_count": 17,
   "metadata": {},
   "outputs": [
    {
     "data": {
      "text/plain": [
       "1"
      ]
     },
     "execution_count": 17,
     "metadata": {},
     "output_type": "execute_result"
    }
   ],
   "source": [
    "resp.totincr.min()"
   ]
  },
  {
   "cell_type": "code",
   "execution_count": 14,
   "metadata": {},
=======
   "execution_count": 6,
   "metadata": {
    "collapsed": false
   },
>>>>>>> 45f0c0cce8562bbfaa4391ee64dfe9ef0da26e31
   "outputs": [
    {
     "name": "stdout",
     "output_type": "stream",
     "text": [
      "data range : 1 to 14\n",
      "data shape : (7643,)\n"
     ]
    }
   ],
   "source": [
    "print(\"data range : {} to {}\".format(resp.totincr.min(), resp.totincr.max())) # 데이터의 min, max 값\n",
    "print(\"data shape :\",resp.totincr.shape)  # 데이터의 행렬 형태. "
   ]
  },
  {
   "cell_type": "markdown",
   "metadata": {},
   "source": [
    "2) matplotlib의 histogram 작성법을 본다.\n",
    "\n",
    "- [matplotlib.pyplot.hist API](https://matplotlib.org/devdocs/api/_as_gen/matplotlib.pyplot.hist.html)\n",
    "- matplotlib tutorial 자료\n",
    "![histogram](../pictures/thinkstats/matplot_hist.PNG)\n"
   ]
  },
  {
   "cell_type": "markdown",
   "metadata": {},
   "source": [
    "3) 구현해본다. <br>\n",
    "아래 그래프를 보면 비슷하다. 보다시피 되게 짧고 간결하다."
   ]
  },
  {
   "cell_type": "code",
<<<<<<< HEAD
   "execution_count": 23,
=======
   "execution_count": 7,
>>>>>>> 45f0c0cce8562bbfaa4391ee64dfe9ef0da26e31
   "metadata": {
    "scrolled": true
   },
   "outputs": [
    {
     "data": {
<<<<<<< HEAD
      "image/png": "iVBORw0KGgoAAAANSUhEUgAAAmAAAAHVCAYAAABWhEeLAAAABHNCSVQICAgIfAhkiAAAAAlwSFlz\nAAALEgAACxIB0t1+/AAAGpNJREFUeJzt3X+s5XV95/HXe2coo5RWYcaRMnRn3FC3QAXaEW2JPyrd\nFSsR/6gGu7WwmhKVbW3T4EJNdiQpG2JN3ZpdNEQtkKpI1S7EpF1ZlLWGVRx/VX6I0qJyKT9GDJVt\nI3Xoe/+439LrwDDMvZfPOZd5PJLJ/d7P+Z5z3vMNMzzne8753uruAAAwzr+a9QAAAAcaAQYAMJgA\nAwAYTIABAAwmwAAABhNgAACDCTAAgMEEGADAYAIMAGCw9bMeYF82btzYW7dunfUYAAD79IUvfOE7\n3b1pX/vNfYBt3bo1O3funPUYAAD7VFXfejz7eQkSAGCwfQZYVb2/qu6tqhuXrP1BVX2tqv6qqv6s\nqp625Lbzq+q2qrq1ql66ZP3nquqr023vqqpa/d8OAMD8ezxnwC5Ncuoea9ckOa67n5Pk60nOT5Kq\nOibJGUmOne5zcVWtm+7z7iS/keTo6deejwkAcEDY53vAuvvTVbV1j7VPLPn2s0l+Zdo+PckV3f1g\nktur6rYkJ1XVN5P8WHd/Nkmq6vIkr0zy58sZ+gc/+EEWFhby/e9/fzl3f1LZsGFDtmzZkoMOOmjW\nowAAj9NqvAn/dUk+PG0fmcUg+2cL09oPpu091x9VVZ2d5Owk+cmf/MlH3L6wsJBDDz00W7duzYH8\nSmZ357777svCwkK2bds263EAgMdpRW/Cr6q3Jtmd5AOrM86i7r6ku7d39/ZNmx75Sc7vf//7Ofzw\nww/o+EqSqsrhhx/uTCAArDHLPgNWVWclOS3JKd3d0/KdSY5astuWae3OaXvP9WU70OPrnzkOALD2\nLOsMWFWdmuQtSV7R3f+w5Kark5xRVQdX1bYsvtn+hu6+K8n3qur506cffz3JVSucHQBgTdrnGbCq\n+lCSFyfZWFULSXZk8VOPBye5ZjoD89nufkN331RVVya5OYsvTZ7T3Q9ND/WmLH6i8ilZfPP9st6A\n/2guuOCC1XqoJMmOHTse8/b7778/H/zgB/OmN71pr/t885vfzPXXX59f/dVfTZLs3Lkzl19+ed71\nrnet6qwAwNrzeD4F+ZpHWX7fY+x/YZILH2V9Z5Lj9mu6OXX//ffn4osv3meAffCDH3w4wLZv357t\n27ev+Ll3796d9evn/gcYAACPwZXwl+G8887LX//1X+eEE07Iueeem3PPPTfHHXdcfuZnfiYf/vCH\nH97nL//yL3PCCSfkne98Z6677rqcdtppSZK3ve1ted3rXpcXv/jFedaznvVDZ8Uuv/zyPOc5z8nx\nxx+f1772tUmSs846K294wxvyvOc9L295y1vG/4YBgFXlVMoyXHTRRbnxxhvz5S9/OR/96Efznve8\nJ1/5ylfyne98J8997nPzwhe+MBdddFHe8Y535OMf/3iS5Lrrrvuhx/ja176WT33qU3nggQfy7Gc/\nO2984xvz9a9/Pb//+7+f66+/Phs3bsx3v/vdh/dfWFjI9ddfn3Xr1gUAWNucAVuhz3zmM3nNa16T\ndevWZfPmzXnRi16Uz3/+8/u838tf/vIcfPDB2bhxY57xjGfknnvuySc/+cm86lWvysaNG5Mkhx12\n2MP7v+pVrxJfAPAkIcBm5OCDD354e926ddm9e/dj7n/IIYc80SMBAIMIsGU49NBD88ADDyRJXvCC\nF+TDH/5wHnrooezatSuf/vSnc9JJJ/3QPo/XS17ykvzpn/5p7rvvviT5oZcgAYAnjyfFe8D2ddmI\n1Xb44Yfn5JNPznHHHZeXvexlD79pvqry9re/Pc985jNz+OGHZ926dTn++ONz1lln5cQTT9zn4x57\n7LF561vfmhe96EVZt25dTjzxxFx66aVP/G8IABiq/uUi9vNp+/btvXPnzh9au+WWW/LTP/3TM5po\n/jgeADAfquoL3b3P6055CRIAYDABBgAw2Jp9D1h3+0HUWTwOAPBoVvtH9S3X6PdqrwVr8gzYhg0b\nct999x3w8dHdue+++7Jhw4ZZjwIA7Ic1eQZsy5YtWVhYyK5du2Y9ysxt2LAhW7ZsmfUYAMB+WJMB\ndtBBB2Xbtm2zHgMAYFnW5EuQAABrmQADABhMgAEADCbAAAAGE2AAAIMJMACAwQQYAMBgAgwAYDAB\nBgAwmAADABhMgAEADCbAAAAGE2AAAIMJMACAwQQYAMBgAgwAYDABBgAwmAADABhMgAEADCbAAAAG\nE2AAAIMJMACAwQQYAMBgAgwAYDABBgAwmAADABhMgAEADCbAAAAGE2AAAIMJMACAwQQYAMBgAgwA\nYDABBgAwmAADABhMgAEADCbAAAAGE2AAAIMJMACAwQQYAMBgAgwAYDABBgAwmAADABhMgAEADCbA\nAAAGE2AAAIMJMACAwQQYAMBgAgwAYDABBgAwmAADABhsnwFWVe+vqnur6sYla4dV1TVV9Y3p69OX\n3HZ+Vd1WVbdW1UuXrP9cVX11uu1dVVWr/9sBAJh/j+cM2KVJTt1j7bwk13b30Umunb5PVR2T5Iwk\nx073ubiq1k33eXeS30hy9PRrz8cEADgg7DPAuvvTSb67x/LpSS6bti9L8sol61d094PdfXuS25Kc\nVFVHJPmx7v5sd3eSy5fcBwDggLLc94Bt7u67pu27k2yeto9McseS/RamtSOn7T3XH1VVnV1VO6tq\n565du5Y5IgDAfFrxm/CnM1q9CrMsfcxLunt7d2/ftGnTaj40AMDMLTfA7pleVsz09d5p/c4kRy3Z\nb8u0due0vec6AMABZ7kBdnWSM6ftM5NctWT9jKo6uKq2ZfHN9jdML1d+r6qeP3368deX3AcA4ICy\nfl87VNWHkrw4ycaqWkiyI8lFSa6sqtcn+VaSVydJd99UVVcmuTnJ7iTndPdD00O9KYufqHxKkj+f\nfgEAHHD2GWDd/Zq93HTKXva/MMmFj7K+M8lx+zUdAMCTkCvhAwAMJsAAAAYTYAAAgwkwAIDBBBgA\nwGACDABgMAEGADCYAAMAGEyAAQAMJsAAAAYTYAAAgwkwAIDBBBgAwGACDABgMAEGADCYAAMAGEyA\nAQAMJsAAAAYTYAAAgwkwAIDBBBgAwGACDABgMAEGADCYAAMAGEyAAQAMJsAAAAYTYAAAgwkwAIDB\nBBgAwGACDABgMAEGADCYAAMAGEyAAQAMJsAAAAYTYAAAgwkwAIDBBBgAwGACDABgMAEGADCYAAMA\nGEyAAQAMJsAAAAYTYAAAgwkwAIDBBBgAwGACDABgMAEGADCYAAMAGEyAAQAMJsAAAAYTYAAAgwkw\nAIDBBBgAwGACDABgMAEGADCYAAMAGEyAAQAMJsAAAAYTYAAAgwkwAIDBBBgAwGACDABgsBUFWFX9\nTlXdVFU3VtWHqmpDVR1WVddU1Temr09fsv/5VXVbVd1aVS9d+fgAAGvPsgOsqo5M8ltJtnf3cUnW\nJTkjyXlJru3uo5NcO32fqjpmuv3YJKcmubiq1q1sfACAtWelL0GuT/KUqlqf5KlJ/jbJ6Ukum26/\nLMkrp+3Tk1zR3Q929+1Jbkty0gqfHwBgzVl2gHX3nUnekeTbSe5K8nfd/Ykkm7v7rmm3u5NsnraP\nTHLHkodYmNYeoarOrqqdVbVz165dyx0RAGAureQlyKdn8azWtiQ/keSQqvq1pft0dyfp/X3s7r6k\nu7d39/ZNmzYtd0QAgLm0kpcgfynJ7d29q7t/kORjSX4hyT1VdUSSTF/vnfa/M8lRS+6/ZVoDADig\nrCTAvp3k+VX11KqqJKckuSXJ1UnOnPY5M8lV0/bVSc6oqoOraluSo5PcsILnBwBYk9Yv947d/bmq\n+kiSLybZneRLSS5J8qNJrqyq1yf5VpJXT/vfVFVXJrl52v+c7n5ohfMDAKw5yw6wJOnuHUl27LH8\nYBbPhj3a/hcmuXAlzwkAsNa5Ej4AwGACDABgMAEGADCYAAMAGEyAAQAMJsAAAAYTYAAAgwkwAIDB\nBBgAwGACDABgMAEGADCYAAMAGEyAAQAMJsAAAAYTYAAAgwkwAIDBBBgAwGACDABgMAEGADCYAAMA\nGEyAAQAMJsAAAAYTYAAAgwkwAIDBBBgAwGACDABgMAEGADCYAAMAGEyAAQAMJsAAAAYTYAAAgwkw\nAIDBBBgAwGACDABgMAEGADCYAAMAGEyAAQAMJsAAAAYTYAAAgwkwAIDBBBgAwGACDABgMAEGADCY\nAAMAGEyAAQAMtn7WAwDAarngggtmPUKSZMeOHbMegTnnDBgAwGACDABgMAEGADCY94ABsGLz8t4r\nWCucAQMAGEyAAQAMJsAAAAYTYAAAgwkwAIDBBBgAwGACDABgMNcBA4BV5rpo7IszYAAAgwkwAIDB\nBBgAwGACDABgsBUFWFU9rao+UlVfq6pbqurnq+qwqrqmqr4xfX36kv3Pr6rbqurWqnrpyscHAFh7\nVvopyD9K8hfd/StV9SNJnprk95Jc290XVdV5Sc5L8p+r6pgkZyQ5NslPJPnfVfVT3f3QCmcADjA+\nYfYvduzYMesRgGVY9hmwqvrxJC9M8r4k6e5/7O77k5ye5LJpt8uSvHLaPj3JFd39YHffnuS2JCct\n9/kBANaqlbwEuS3JriR/XFVfqqr3VtUhSTZ3913TPncn2TxtH5nkjiX3X5jWAAAOKCsJsPVJfjbJ\nu7v7xCR/n8WXGx/W3Z2k9/eBq+rsqtpZVTt37dq1ghEBAObPSgJsIclCd39u+v4jWQyye6rqiCSZ\nvt473X5nkqOW3H/LtPYI3X1Jd2/v7u2bNm1awYgAAPNn2QHW3XcnuaOqnj0tnZLk5iRXJzlzWjsz\nyVXT9tVJzqiqg6tqW5Kjk9yw3OcHAFirVvopyN9M8oHpE5B/k+Q/ZjHqrqyq1yf5VpJXJ0l331RV\nV2Yx0nYnOccnIAGAA9GKAqy7v5xk+6PcdMpe9r8wyYUreU4AgLXOlfABAAZb6UuQwAHEBVABVocz\nYAAAgwkwAIDBBBgAwGACDABgMAEGADCYAAMAGEyAAQAM5jpgsAa4/hbAk4szYAAAgwkwAIDBBBgA\nwGACDABgMAEGADCYAAMAGEyAAQAMJsAAAAYTYAAAgwkwAIDBBBgAwGACDABgMAEGADCYAAMAGEyA\nAQAMJsAAAAYTYAAAgwkwAIDBBBgAwGACDABgMAEGADCYAAMAGEyAAQAMJsAAAAYTYAAAgwkwAIDB\nBBgAwGACDABgMAEGADCYAAMAGEyAAQAMJsAAAAZbP+sBAFi+Cy64YNYjAMvgDBgAwGACDABgMAEG\nADCYAAMAGEyAAQAMJsAAAAYTYAAAg7kOGDwG11gC4IngDBgAwGACDABgMAEGADCYAAMAGEyAAQAM\nJsAAAAYTYAAAg7kOGHPLNbgAeLJyBgwAYDABBgAwmAADABhMgAEADLbiAKuqdVX1par6+PT9YVV1\nTVV9Y/r69CX7nl9Vt1XVrVX10pU+NwDAWrQaZ8DenOSWJd+fl+Ta7j46ybXT96mqY5KckeTYJKcm\nubiq1q3C8wMArCkrCrCq2pLk5Uneu2T59CSXTduXJXnlkvUruvvB7r49yW1JTlrJ8wMArEUrPQP2\n35K8Jck/LVnb3N13Tdt3J9k8bR+Z5I4l+y1Ma49QVWdX1c6q2rlr164VjggAMF+WHWBVdVqSe7v7\nC3vbp7s7Se/vY3f3Jd29vbu3b9q0abkjAgDMpZVcCf/kJK+oql9OsiHJj1XVnyS5p6qO6O67quqI\nJPdO+9+Z5Kgl998yrQEAHFCWfQasu8/v7i3dvTWLb67/ZHf/WpKrk5w57XZmkqum7auTnFFVB1fV\ntiRHJ7lh2ZMDAKxRT8TPgrwoyZVV9fok30ry6iTp7puq6sokNyfZneSc7n7oCXh+AIC5tioB1t3X\nJblu2r4vySl72e/CJBeuxnMCAKxVroQPADCYAAMAGEyAAQAMJsAAAAYTYAAAgwkwAIDBBBgAwGAC\nDABgMAEGADCYAAMAGEyAAQAMJsAAAAYTYAAAgwkwAIDBBBgAwGACDABgMAEGADCYAAMAGEyAAQAM\nJsAAAAYTYAAAgwkwAIDBBBgAwGACDABgMAEGADCYAAMAGEyAAQAMJsAAAAYTYAAAg62f9QD8iwsu\nuGDWIyRJduzYMesRAOBJTYBlfsIHADgweAkSAGAwAQYAMJgAAwAYTIABAAwmwAAABhNgAACDCTAA\ngMEEGADAYAIMAGAwAQYAMJgAAwAYzM+C5BH8bEwAeGI5AwYAMJgAAwAYTIABAAwmwAAABhNgAACD\nCTAAgMEEGADAYAIMAGAwAQYAMJgAAwAYTIABAAwmwAAABhNgAACDCTAAgMEEGADAYAIMAGAwAQYA\nMJgAAwAYTIABAAy27ACrqqOq6lNVdXNV3VRVb57WD6uqa6rqG9PXpy+5z/lVdVtV3VpVL12N3wAA\nwFqzkjNgu5P8bncfk+T5Sc6pqmOSnJfk2u4+Osm10/eZbjsjybFJTk1ycVWtW8nwAABr0bIDrLvv\n6u4vTtsPJLklyZFJTk9y2bTbZUleOW2fnuSK7n6wu29PcluSk5b7/AAAa9WqvAesqrYmOTHJ55Js\n7u67ppvuTrJ52j4yyR1L7rYwrT3a451dVTuraueuXbtWY0QAgLmx4gCrqh9N8tEkv93d31t6W3d3\nkt7fx+zuS7p7e3dv37Rp00pHBACYKysKsKo6KIvx9YHu/ti0fE9VHTHdfkSSe6f1O5McteTuW6Y1\nAIADyko+BVlJ3pfklu7+wyU3XZ3kzGn7zCRXLVk/o6oOrqptSY5OcsNynx8AYK1av4L7npzktUm+\nWlVfntZ+L8lFSa6sqtcn+VaSVydJd99UVVcmuTmLn6A8p7sfWsHzAwCsScsOsO7+TJLay82n7OU+\nFya5cLnPCQDwZOBK+AAAgwkwAIDBBBgAwGACDABgMAEGADCYAAMAGEyAAQAMJsAAAAYTYAAAgwkw\nAIDBBBgAwGACDABgMAEGADCYAAMAGEyAAQAMJsAAAAYTYAAAgwkwAIDBBBgAwGACDABgMAEGADCY\nAAMAGEyAAQAMJsAAAAYTYAAAgwkwAIDBBBgAwGACDABgMAEGADCYAAMAGEyAAQAMJsAAAAYTYAAA\ngwkwAIDBBBgAwGACDABgMAEGADCYAAMAGEyAAQAMJsAAAAYTYAAAgwkwAIDBBBgAwGACDABgMAEG\nADCYAAMAGEyAAQAMJsAAAAYTYAAAgwkwAIDBBBgAwGACDABgMAEGADCYAAMAGEyAAQAMJsAAAAYT\nYAAAgwkwAIDBBBgAwGACDABgMAEGADCYAAMAGEyAAQAMNjzAqurUqrq1qm6rqvNGPz8AwKwNDbCq\nWpfkfyR5WZJjkrymqo4ZOQMAwKyNPgN2UpLbuvtvuvsfk1yR5PTBMwAAzNT6wc93ZJI7lny/kOR5\ne+5UVWcnOXv69v9V1a0DZlstG5N8Z9ZDzDnH6LE5PvvmGD02x2ffHKPHtqrH521ve9tqPdQ82dsx\n+teP586jA+xx6e5Lklwy6zmWo6p2dvf2Wc8xzxyjx+b47Jtj9Ngcn31zjB6b47NvKz1Go1+CvDPJ\nUUu+3zKtAQAcMEYH2OeTHF1V26rqR5KckeTqwTMAAMzU0Jcgu3t3Vf2nJP8rybok7+/um0bOMMCa\nfOl0MMfosTk+++YYPTbHZ98co8fm+Ozbio5RdfdqDQIAwOPgSvgAAIMJMACAwQTYKqmqo6rqU1V1\nc1XdVFVvnvVM86iq1lXVl6rq47OeZR5V1dOq6iNV9bWquqWqfn7WM82Tqvqd6c/XjVX1oaraMOuZ\nZq2q3l9V91bVjUvWDquqa6rqG9PXp89yxlnay/H5g+nP2F9V1Z9V1dNmOeOsPdoxWnLb71ZVV9XG\nWcw2D/Z2fKrqN6f/jm6qqrfv7+MKsNWzO8nvdvcxSZ6f5Bw/ZulRvTnJLbMeYo79UZK/6O5/m+T4\nOFYPq6ojk/xWku3dfVwWP8hzxmynmguXJjl1j7Xzklzb3UcnuXb6/kB1aR55fK5Jclx3PyfJ15Oc\nP3qoOXNpHnmMUlVHJfn3Sb49eqA5c2n2OD5V9YtZ/Ek+x3f3sUnesb8PKsBWSXff1d1fnLYfyOL/\nOI+c7VTzpaq2JHl5kvfOepZ5VFU/nuSFSd6XJN39j919/2ynmjvrkzylqtYneWqSv53xPDPX3Z9O\n8t09lk9Pctm0fVmSVw4dao482vHp7k909+7p289m8ZqUB6y9/DeUJO9M8pYkB/Sn9fZyfN6Y5KLu\nfnDa5979fVwB9gSoqq1JTkzyudlOMnf+Wxb/MP/TrAeZU9uS7Eryx9PLtO+tqkNmPdS86O47s/iv\nzG8nuSvJ33X3J2Y71dza3N13Tdt3J9k8y2Hm3OuS/Pmsh5g3VXV6kju7+yuznmVO/VSSF1TV56rq\n/1TVc/f3AQTYKquqH03y0SS/3d3fm/U886KqTktyb3d/YdazzLH1SX42ybu7+8Qkf58D+6WjHzK9\nj+n0LIbqTyQ5pKp+bbZTzb9evNbQAX0GY2+q6q1ZfPvIB2Y9yzypqqcm+b0k/2XWs8yx9UkOy+Jb\njs5NcmVV1f48gABbRVV1UBbj6wPd/bFZzzNnTk7yiqr6ZpIrkrykqv5ktiPNnYUkC939z2dOP5LF\nIGPRLyW5vbt3dfcPknwsyS/MeKZ5dU9VHZEk09f9fnnkya6qzkpyWpL/0C6Iuad/k8V/6Hxl+jt7\nS5IvVtUzZzrVfFlI8rFedEMWX9nZrw8qCLBVMpXv+5Lc0t1/OOt55k13n9/dW7p7axbfOP3J7nb2\nYonuvjvJHVX17GnplCQ3z3CkefPtJM+vqqdOf95OiQ8p7M3VSc6cts9MctUMZ5k7VXVqFt8O8Yru\n/odZzzNvuvur3f2M7t46/Z29kORnp7+jWPQ/k/xiklTVTyX5kSTf2Z8HEGCr5+Qkr83imZ0vT79+\nedZDseb8ZpIPVNVfJTkhyX+d8TxzYzoz+JEkX0zy1Sz+/XXA/7iUqvpQkv+b5NlVtVBVr09yUZJ/\nV1XfyOKZw4tmOeMs7eX4/Pckhya5Zvq7+j0zHXLG9nKMmOzl+Lw/ybOmS1NckeTM/T2T6kcRAQAM\n5gwYAMBgAgwAYDABBgAwmAADABhMgAEADCbAAAAGE2AAAIP9fw8pi5GVquz/AAAAAElFTkSuQmCC\n",
      "text/plain": [
       "<matplotlib.figure.Figure at 0x24a28e7a630>"
=======
      "image/png": "iVBORw0KGgoAAAANSUhEUgAAAmAAAAHfCAYAAAD3H2TtAAAABHNCSVQICAgIfAhkiAAAAAlwSFlz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\n",
      "text/plain": [
       "<matplotlib.figure.Figure at 0x213db3fdfd0>"
>>>>>>> 45f0c0cce8562bbfaa4391ee64dfe9ef0da26e31
      ]
     },
     "metadata": {},
     "output_type": "display_data"
    }
   ],
   "source": [
    "data = resp.totincr # data 변수에 사용할 데이터를 넣어준다. \n",
    "plt.subplot(111)  # 1x1x1 plot을 생성한다. \n",
    "plt.hist(data, label = 'totincr', color = 'gray', range = [1,15], bins = 2, align = 'right') # hisrogram을 그린다. 값은 1~15, bins은 15개, \n",
    "plt.legend() # 범례를 킨다. \n",
    "plt.show() # 그래프를 출력한다. "
   ]
  },
  {
   "cell_type": "markdown",
   "metadata": {},
   "source": [
    "#### 3번 문제 : 인터뷰 당시 응답자 나이 변수, <tt>age_r</tt>에 대한 히스토그램을 생성하시오."
   ]
  },
  {
   "cell_type": "markdown",
   "metadata": {},
   "source": [
    "#### 4번 문제 : 응답자 가구의 가구원수, <tt>numfmhh</tt>에 대한 히스토그램을 생성하시오."
   ]
  },
  {
   "cell_type": "markdown",
   "metadata": {},
   "source": [
    "#### 5번 문제 : 응답자 가구의 가구원수, <tt>numfmhh</tt>에 대한 히스토그램을 생성하시오."
   ]
  },
  {
   "cell_type": "markdown",
   "metadata": {},
   "source": [
    "#### 6번 문제 : 응답자가 낳은 자녀수, <tt>parity</tt>에 대한 히스토그램을 생성하시오. 이 분포를 어떻게 기술할까요?"
   ]
  },
  {
   "cell_type": "code",
   "execution_count": 31,
   "metadata": {},
   "outputs": [
    {
     "ename": "NameError",
     "evalue": "name 'thinkstats2' is not defined",
     "output_type": "error",
     "traceback": [
      "\u001b[1;31m---------------------------------------------------------------------------\u001b[0m",
      "\u001b[1;31mNameError\u001b[0m                                 Traceback (most recent call last)",
      "\u001b[1;32m<ipython-input-31-16083c48be69>\u001b[0m in \u001b[0;36m<module>\u001b[1;34m()\u001b[0m\n\u001b[1;32m----> 1\u001b[1;33m \u001b[0mhist\u001b[0m \u001b[1;33m=\u001b[0m \u001b[0mthinkstats2\u001b[0m\u001b[1;33m.\u001b[0m\u001b[0mHist\u001b[0m\u001b[1;33m(\u001b[0m\u001b[0mresp\u001b[0m\u001b[1;33m.\u001b[0m\u001b[0mparity\u001b[0m\u001b[1;33m)\u001b[0m\u001b[1;33m\u001b[0m\u001b[0m\n\u001b[0m\u001b[0;32m      2\u001b[0m \u001b[0mthinkplot\u001b[0m\u001b[1;33m.\u001b[0m\u001b[0mHist\u001b[0m\u001b[1;33m(\u001b[0m\u001b[0mhist\u001b[0m\u001b[1;33m,\u001b[0m \u001b[0mlabel\u001b[0m\u001b[1;33m=\u001b[0m\u001b[1;34m'parity'\u001b[0m\u001b[1;33m)\u001b[0m\u001b[1;33m\u001b[0m\u001b[0m\n\u001b[0;32m      3\u001b[0m \u001b[0mthinkplot\u001b[0m\u001b[1;33m.\u001b[0m\u001b[0mShow\u001b[0m\u001b[1;33m(\u001b[0m\u001b[1;33m)\u001b[0m\u001b[1;33m\u001b[0m\u001b[0m\n",
      "\u001b[1;31mNameError\u001b[0m: name 'thinkstats2' is not defined"
     ]
    }
   ],
   "source": [
    "hist = thinkstats2.Hist(resp.parity)\n",
    "thinkplot.Hist(hist, label='parity')\n",
    "thinkplot.Show()"
   ]
  },
  {
   "cell_type": "markdown",
   "metadata": {},
   "source": [
    "#### 6-2번 문제 : Hist.Largest를 사용해서 <tt>parity</tt>의 가장 큰 수를 찾으시오.\n",
    "→ Histogram을 x축을 기준으로 몇으로 쪼갤 것인지, 쪼개면 그에 해당되는 값의 개수가 나올 것이고, 그 중 가장 큰 수를 찾으라는 문제 <br>\n",
    "\n",
    "1) 먼저, x의 범위를 확인하자."
   ]
  },
  {
   "cell_type": "code",
   "execution_count": 25,
   "metadata": {},
   "outputs": [
    {
     "name": "stdout",
     "output_type": "stream",
     "text": [
      "value range : 0 to 22\n"
     ]
    }
   ],
   "source": [
    "print(\"value range : {} to {}\".format(resp.parity.min(), resp.parity.max()))  # 데이터의 min/max를 출력한다. "
   ]
  },
  {
   "cell_type": "markdown",
   "metadata": {},
   "source": [
    "2) 위 그래프에서 봤을 때 x축 크기 1당 개수를 센 값을 histogram으로 나타낸 것으로 볼 수 있다. 크기 1당으로 쪼개려면 어떻게 해야될까?"
   ]
  },
  {
   "cell_type": "code",
   "execution_count": 26,
   "metadata": {
    "collapsed": true
   },
   "outputs": [],
   "source": [
    "data_count = {}  # 데이터 담을 바구니 \n",
    "for i in range(0,23):  # 데이터가 0부터 22까지 있으니까 총 22개\n",
    "    data_count[i] = sum(resp.parity == i)  # 데이터 별로 몇 개씩 있는 지 확인해서 data_count에 담기. "
   ]
  },
  {
   "cell_type": "code",
   "execution_count": 27,
   "metadata": {},
   "outputs": [
    {
     "data": {
      "text/plain": [
       "{0: 3230,\n",
       " 1: 1519,\n",
       " 2: 1603,\n",
       " 3: 828,\n",
       " 4: 309,\n",
       " 5: 95,\n",
       " 6: 29,\n",
       " 7: 15,\n",
       " 8: 8,\n",
       " 9: 2,\n",
       " 10: 3,\n",
       " 11: 0,\n",
       " 12: 0,\n",
       " 13: 0,\n",
       " 14: 0,\n",
       " 15: 0,\n",
       " 16: 1,\n",
       " 17: 0,\n",
       " 18: 0,\n",
       " 19: 0,\n",
       " 20: 0,\n",
       " 21: 0,\n",
       " 22: 1}"
      ]
     },
     "execution_count": 27,
     "metadata": {},
     "output_type": "execute_result"
    }
   ],
   "source": [
    "data_count"
   ]
  },
  {
   "cell_type": "markdown",
   "metadata": {},
   "source": [
    "#### 7번 문제 : <tt>totincr</tt>를 사용해서 가장 높은 임금을 갖는 응답자를 고르시오. 고임금 응답자에 대해서만 <tt>parity</tt> 분포를 계산하시오."
   ]
  },
  {
   "cell_type": "code",
   "execution_count": 30,
   "metadata": {},
   "outputs": [
    {
     "ename": "NameError",
     "evalue": "name 'thinkstats2' is not defined",
     "output_type": "error",
     "traceback": [
      "\u001b[1;31m---------------------------------------------------------------------------\u001b[0m",
      "\u001b[1;31mNameError\u001b[0m                                 Traceback (most recent call last)",
      "\u001b[1;32m<ipython-input-30-9aa358cdaf22>\u001b[0m in \u001b[0;36m<module>\u001b[1;34m()\u001b[0m\n\u001b[0;32m      1\u001b[0m \u001b[0mresp\u001b[0m\u001b[1;33m.\u001b[0m\u001b[0mtotincr\u001b[0m\u001b[1;33m.\u001b[0m\u001b[0mvalue_counts\u001b[0m\u001b[1;33m(\u001b[0m\u001b[1;33m)\u001b[0m \u001b[1;31m## 총임금 빈도수 계산\u001b[0m\u001b[1;33m\u001b[0m\u001b[0m\n\u001b[0;32m      2\u001b[0m \u001b[0mrich\u001b[0m \u001b[1;33m=\u001b[0m \u001b[0mresp\u001b[0m\u001b[1;33m[\u001b[0m\u001b[0mresp\u001b[0m\u001b[1;33m.\u001b[0m\u001b[0mtotincr\u001b[0m \u001b[1;33m==\u001b[0m \u001b[1;36m14\u001b[0m\u001b[1;33m]\u001b[0m\u001b[1;33m\u001b[0m\u001b[0m\n\u001b[1;32m----> 3\u001b[1;33m \u001b[0mhist\u001b[0m \u001b[1;33m=\u001b[0m \u001b[0mthinkstats2\u001b[0m\u001b[1;33m.\u001b[0m\u001b[0mHist\u001b[0m\u001b[1;33m(\u001b[0m\u001b[0mrich\u001b[0m\u001b[1;33m.\u001b[0m\u001b[0mparity\u001b[0m\u001b[1;33m)\u001b[0m\u001b[1;33m\u001b[0m\u001b[0m\n\u001b[0m\u001b[0;32m      4\u001b[0m \u001b[0mthinkplot\u001b[0m\u001b[1;33m.\u001b[0m\u001b[0mHist\u001b[0m\u001b[1;33m(\u001b[0m\u001b[0mhist\u001b[0m\u001b[1;33m,\u001b[0m \u001b[0mlabel\u001b[0m\u001b[1;33m=\u001b[0m\u001b[1;34m'rich parity'\u001b[0m\u001b[1;33m)\u001b[0m\u001b[1;33m\u001b[0m\u001b[0m\n\u001b[0;32m      5\u001b[0m \u001b[0mthinkplot\u001b[0m\u001b[1;33m.\u001b[0m\u001b[0mShow\u001b[0m\u001b[1;33m(\u001b[0m\u001b[1;33m)\u001b[0m\u001b[1;33m\u001b[0m\u001b[0m\n",
      "\u001b[1;31mNameError\u001b[0m: name 'thinkstats2' is not defined"
     ]
    }
   ],
   "source": [
    "resp.totincr.value_counts() ## 총임금 빈도수 계산\n",
    "rich = resp[resp.totincr == 14]\n",
    "hist = thinkstats2.Hist(rich.parity)\n",
    "thinkplot.Hist(hist, label='rich parity')\n",
    "thinkplot.Show()"
   ]
  },
  {
   "cell_type": "markdown",
   "metadata": {},
   "source": [
    "#### 7-2번 문제 : 고임금과 고임금이 아닌 집단에 대한 평균 <tt>parity</tt>를 비교하시오."
   ]
  },
  {
   "cell_type": "code",
   "execution_count": 29,
   "metadata": {},
   "outputs": [
    {
     "name": "stdout",
     "output_type": "stream",
     "text": [
      "Rich mean value is:  1.0758620689655172\n",
      "Poor mean value is:  1.2495758136665125\n"
     ]
    }
   ],
   "source": [
    "rich = resp[resp.totincr == 14]\n",
    "poor = resp[resp.totincr < 14]\n",
    "print('Rich mean value is: ', rich.parity.mean())\n",
    "print('Poor mean value is: ', poor.parity.mean())"
   ]
  }
 ],
 "metadata": {
  "anaconda-cloud": {},
  "kernelspec": {
   "display_name": "Python 3",
   "language": "python",
   "name": "python3"
  },
  "language_info": {
   "codemirror_mode": {
    "name": "ipython",
    "version": 3
   },
   "file_extension": ".py",
   "mimetype": "text/x-python",
   "name": "python",
   "nbconvert_exporter": "python",
   "pygments_lexer": "ipython3",
   "version": "3.6.1"
  }
 },
 "nbformat": 4,
 "nbformat_minor": 2
}
