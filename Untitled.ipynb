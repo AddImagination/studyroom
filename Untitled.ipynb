{
 "cells": [
  {
   "cell_type": "markdown",
   "metadata": {},
   "source": [
    "흥선이 과외를 위한 Repository \n",
    "\n",
    "### 커리큘럼\n",
    "\n",
    "\n",
    "1. Web Crawling\n",
    "\n",
    "  - 라이브러리 : Requests, BeautifulSoap, Scrapy, pandas\n",
    "  \n",
    "  - 활용 목적 : 업무 중 웹 상에서 정보 끌어오는 부분 자동화를 위함\n",
    "  \n",
    "2. API 사용하기\n",
    "\n",
    "  - \n",
    "  \n",
    " \n",
    "\n",
    "\n",
    "\n"
   ]
  },
  {
   "cell_type": "code",
   "execution_count": null,
   "metadata": {
    "collapsed": true
   },
   "outputs": [],
   "source": []
  }
 ],
 "metadata": {
  "anaconda-cloud": {},
  "kernelspec": {
   "display_name": "Python [default]",
   "language": "python",
   "name": "python3"
  },
  "language_info": {
   "codemirror_mode": {
    "name": "ipython",
    "version": 3
   },
   "file_extension": ".py",
   "mimetype": "text/x-python",
   "name": "python",
   "nbconvert_exporter": "python",
   "pygments_lexer": "ipython3",
   "version": "3.5.2"
  }
 },
 "nbformat": 4,
 "nbformat_minor": 1
}
