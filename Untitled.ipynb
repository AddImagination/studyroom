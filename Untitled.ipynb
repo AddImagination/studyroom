{
 "cells": [
  {
   "cell_type": "markdown",
   "metadata": {},
   "source": [
    "흥선이 과외를 위한 Repository \n",
    "\n",
    "### 커리큘럼\n",
    "\n",
    "1. Web Crawling\n",
    "\n",
    "  - 라이브러리 : requests, BeautifulSoap, scrapy, pandas\n",
    "  \n",
    "  - 활용 목적 : 업무 중 웹 상에서 정보 끌어오는 부분 자동화를 위함\n",
    "\n",
    "  - 준비 사항 : 업무 중 정보 끌어오는 웹 페이지 목록, 방법에 대한 간단 기술\n",
    "\n",
    "  - 학습 일정 : \n",
    "  \n",
    "  \n",
    "  \n",
    "| 일정        | 학습 내용         |\n",
    "| :-------------: |:------------- \n",
    "| 7/15      | 웹의 HTML 및 데이터 구조 확인. requests, BeautifulSoup를 이용한 웹 크롤링 학습| \n",
    "| 7/22      | scrapy를 활용한 웹 크롤링 학습 |\n",
    "| 7/29      | task scheduler를 활용한 웹 크롤링 자동화 학습 |\n",
    "\n",
    "\n",
    "\n",
    "\n",
    "2. API 사용하기\n",
    "\n",
    "  - \n",
    "  \n",
    "  \n",
    "  \n",
    " \n",
    "\n",
    "\n",
    "\n"
   ]
  },
  {
   "cell_type": "code",
   "execution_count": null,
   "metadata": {
    "collapsed": true
   },
   "outputs": [],
   "source": []
  }
 ],
 "metadata": {
  "anaconda-cloud": {},
  "kernelspec": {
   "display_name": "Python [default]",
   "language": "python",
   "name": "python3"
  },
  "language_info": {
   "codemirror_mode": {
    "name": "ipython",
    "version": 3
   },
   "file_extension": ".py",
   "mimetype": "text/x-python",
   "name": "python",
   "nbconvert_exporter": "python",
   "pygments_lexer": "ipython3",
   "version": "3.5.2"
  }
 },
 "nbformat": 4,
 "nbformat_minor": 1
}
